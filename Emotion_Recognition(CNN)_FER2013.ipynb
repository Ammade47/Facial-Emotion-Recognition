{
 "cells": [
  {
   "cell_type": "markdown",
   "metadata": {
    "colab_type": "text",
    "id": "dxQDaDGyjcYP"
   },
   "source": [
    "# Facial Emotion Recognition \n",
    "\n",
    "A baby is able to recognize it's parent's faces when it is about a couple of weeks old. The baby grows and matures and by the time it is about two months old, it starts to display social cues. It is able to understand basic emotions like a smile. \n",
    "\n",
    "This project involves training a neural network to do just that, recognize facial emotions. We owe our ability to do that to the wonderful process of evolution. Replicating this is certainly not easy but possible.\n",
    "\n",
    "For this project, I will be using [Google Collab](/https://colab.research.google.com/). For those who are unaware, it is a research project created to disseminate ML education and you can train your neural networks on their Tesla K80 GPUs. It sure speeds up the entire training process.\n"
   ]
  },
  {
   "cell_type": "markdown",
   "metadata": {
    "colab_type": "text",
    "id": "5FQpjWg4Ld6m"
   },
   "source": [
    "## 1.  Connect google Drive.\n",
    "\n",
    "Once connected, we will be able to access the FER2013 dataset.   "
   ]
  },
  {
   "cell_type": "code",
   "execution_count": null,
   "metadata": {
    "colab": {
     "base_uri": "https://localhost:8080/",
     "height": 121
    },
    "colab_type": "code",
    "id": "SyTEuhg7fR9P",
    "outputId": "925d70d8-ac11-4dea-f948-58bafce04561"
   },
   "outputs": [],
   "source": [
    "from google.colab import drive\n",
    "drive.mount('/content/gdrive')"
   ]
  },
  {
   "cell_type": "markdown",
   "metadata": {
    "colab_type": "text",
    "id": "UQy7KUb6NBs-"
   },
   "source": [
    "## 2. Import Libraries."
   ]
  },
  {
   "cell_type": "code",
   "execution_count": 3,
   "metadata": {
    "colab": {
     "base_uri": "https://localhost:8080/",
     "height": 34
    },
    "colab_type": "code",
    "id": "XRPQRtXGmm2W",
    "outputId": "f3ed0e49-79c7-41ee-f4e2-2cf438a07b8b"
   },
   "outputs": [
    {
     "name": "stderr",
     "output_type": "stream",
     "text": [
      "Using TensorFlow backend.\n"
     ]
    }
   ],
   "source": [
    "%matplotlib inline\n",
    "import matplotlib.pyplot as plt\n",
    "\n",
    "import numpy as np\n",
    "from keras.utils import to_categorical\n",
    "from sklearn.model_selection import train_test_split\n",
    "\n",
    "from keras.models import Sequential #Initialise our neural network model as a sequential network\n",
    "from keras.layers import Conv2D #Convolution operation\n",
    "from keras.layers.normalization import BatchNormalization\n",
    "from keras.regularizers import l2\n",
    "from keras.layers import Activation#Applies activation function\n",
    "from keras.layers import Dropout#Prevents overfitting by randomly converting few outputs to zero\n",
    "from keras.layers import MaxPooling2D # Maxpooling function\n",
    "from keras.layers import Flatten # Converting 2D arrays into a 1D linear vector\n",
    "from keras.layers import Dense # Regular fully connected neural network\n",
    "from keras import optimizers\n",
    "from keras.callbacks import ReduceLROnPlateau, EarlyStopping, TensorBoard, ModelCheckpoint\n",
    "from sklearn.metrics import accuracy_score"
   ]
  },
  {
   "cell_type": "markdown",
   "metadata": {
    "colab_type": "text",
    "id": "xpAjYytuPDaU"
   },
   "source": [
    "## 3. Define Data loading mechanism.\n",
    "\n",
    "\n",
    "the* load_data()* access the [FER2013](https://www.kaggle.com/c/challenges-in-representation-learning-facial-expression-recognition-challenge/data) dataset from Google Drive and then we start reading it line by line. Our dataset has 35,887 images, which are classified into seven categories -  Angry, Disgust, Fear, Happy, Sad, Surprsie, and Neutral. Let us have a look at the file.\n",
    "\n",
    "![Dataset overview](https://i.imgur.com/vqlEXw2.png) \n",
    "\n",
    "We are only going to need the Class and the Image Data. Image data is one big string of numbers exactly 2304 numbers. These are pixel intensity values and each number represents the darkness of that pixel in the image. It can take any value from 0 (White) to 255 (Black). We split the string to get hold of individual numbers and then reshape it into a 48 x 48 array and dividing by 255 normalizes the data. \n",
    "\n",
    "Once we go through all the images, we expand the dimension of our data array by one to accommodate for the channel value. We one-hot encode the labels then return the numpy arrays.     \n"
   ]
  },
  {
   "cell_type": "code",
   "execution_count": 0,
   "metadata": {
    "colab": {},
    "colab_type": "code",
    "id": "H2XHQzzzrRyF"
   },
   "outputs": [],
   "source": [
    "def load_data(dataset_path):\n",
    "\n",
    "  data = []\n",
    "  labels =[]\n",
    "\n",
    "  with open(dataset_path, 'r') as file:\n",
    "      for line_no, line in enumerate(file.readlines()):\n",
    "          if 0 < line_no <= 35887:\n",
    "            curr_class, line, set_type = line.split(',')\n",
    "            image_data = np.asarray([int(x) for x in line.split()]).reshape(48, 48)#Creating a list out of the string then converting it into a 2-Dimensional numpy array.\n",
    "            image_data =image_data.astype(np.uint8)/255.0\n",
    "            data.append(image_data)\n",
    "            labels.append(curr_class)\n",
    "      data = np.expand_dims(data, -1)   \n",
    "      labels = to_categorical(labels, num_classes = 7)\n",
    "    \n",
    "      return np.array(data), np.array(labels)"
   ]
  },
  {
   "cell_type": "markdown",
   "metadata": {
    "colab_type": "text",
    "id": "VFFZrnOgWOII"
   },
   "source": [
    "## 4. Load the data.\n"
   ]
  },
  {
   "cell_type": "code",
   "execution_count": 5,
   "metadata": {
    "colab": {
     "base_uri": "https://localhost:8080/",
     "height": 50
    },
    "colab_type": "code",
    "id": "TpdOghEhxmsd",
    "outputId": "b5386df3-01e7-4b46-8d51-529ba4ff8162"
   },
   "outputs": [
    {
     "name": "stdout",
     "output_type": "stream",
     "text": [
      "Number of images in Training set: 32298\n",
      "Number of images in Test set: 3589\n"
     ]
    }
   ],
   "source": [
    "seed = 7\n",
    "test_size = 0.1\n",
    "dataset_path = \"/content/gdrive/My Drive/Colab Notebooks/Emotion Recognition/Data/fer2013.csv\" \n",
    "data, labels = load_data(dataset_path)\n",
    "train_data, test_data, train_labels, test_labels = train_test_split(data, labels, test_size = test_size,random_state = seed)\n",
    "\n",
    "print(\"Number of images in Training set:\", len(train_data))\n",
    "print(\"Number of images in Test set:\", len(test_data))"
   ]
  },
  {
   "cell_type": "markdown",
   "metadata": {
    "colab_type": "text",
    "id": "Rne3AL0_WnF0"
   },
   "source": [
    "## 5. Define and Deploy the neural network.\n",
    "\n",
    "We have built ourselves a Convolutional Neural Network which has convolutional layers armed with filters that extract features out of images. \n",
    "\n",
    "Callback functions are those functions which are called at the end of every epoch and in this model, we use two callback functions - ReduceLROnPlateau and EarlyStopping. \n",
    "\n",
    "\n",
    "\n",
    "> **1. ReduceLROnPlateau:** monitors a certain variable, in this case, validation loss and alters the learning rate when the value stops significantly changing after some certain number of epochs (patience).\n",
    "\n",
    ">  **2. EarlyStopping:** At times our optimiser can land in *local optima* and get stuck there. There is no point in continuing the training as there won't be any further improvements. \n",
    "\n",
    "> **3. ModelCheckpoin**t: Saves the best version of our model along with the weights, so that in case any crash occurs, our model can be recovered.\n",
    "\n",
    "![Network Architecture](https://i.imgur.com/rG5p7JS.png)\n",
    "\n",
    "We have used Keras to deploy our neural network and if you look at the architecture then you will notice that we have used Dropout layers frequently. Dropout layers inhibit overfitting by randomly dropping out units from the neural network. We will use 20 percent of the training data as validation data.\n",
    "\n",
    "\n",
    "\n"
   ]
  },
  {
   "cell_type": "code",
   "execution_count": null,
   "metadata": {
    "colab": {
     "base_uri": "https://localhost:8080/",
     "height": 8168
    },
    "colab_type": "code",
    "id": "F3VAm1A-0fpD",
    "outputId": "a88ce8b7-0cd8-46b7-ddf4-04955e0cbb9c",
    "scrolled": true
   },
   "outputs": [],
   "source": [
    "#######HYPERPARAMATERS###########\n",
    "epochs = 100\n",
    "batch_size = 64\n",
    "learning_rate = 0.001\n",
    "#################################\n",
    "\n",
    "model = Sequential()\n",
    "    \n",
    "model.add(Conv2D(64, (3, 3), activation='relu', input_shape=(48, 48, 1), kernel_regularizer=l2(0.01)))\n",
    "model.add(Conv2D(64, (3, 3), padding='same',activation='relu'))\n",
    "model.add(BatchNormalization())\n",
    "model.add(MaxPooling2D(pool_size=(2,2), strides=(2, 2)))\n",
    "model.add(Dropout(0.5))\n",
    "    \n",
    "model.add(Conv2D(128, (3, 3), padding='same', activation='relu'))\n",
    "model.add(BatchNormalization())\n",
    "model.add(Conv2D(128, (3, 3), padding='same', activation='relu'))\n",
    "model.add(BatchNormalization())\n",
    "model.add(Conv2D(128, (3, 3), padding='same', activation='relu'))\n",
    "model.add(BatchNormalization())\n",
    "model.add(MaxPooling2D(pool_size=(2,2)))\n",
    "model.add(Dropout(0.5))\n",
    "    \n",
    "model.add(Conv2D(256, (3, 3), padding='same', activation='relu'))\n",
    "model.add(BatchNormalization())\n",
    "model.add(Conv2D(256, (3, 3), padding='same', activation='relu'))\n",
    "model.add(BatchNormalization())\n",
    "model.add(Conv2D(256, (3, 3), padding='same', activation='relu'))\n",
    "model.add(BatchNormalization())\n",
    "model.add(MaxPooling2D(pool_size=(2,2)))\n",
    "model.add(Dropout(0.5))\n",
    "    \n",
    "model.add(Conv2D(512, (3, 3), padding='same', activation='relu'))\n",
    "model.add(BatchNormalization())\n",
    "model.add(Conv2D(512, (3, 3), padding='same', activation='relu'))\n",
    "model.add(BatchNormalization())\n",
    "model.add(Conv2D(512, (3, 3), padding='same', activation='relu'))\n",
    "model.add(BatchNormalization())\n",
    "model.add(MaxPooling2D(pool_size=(2,2)))\n",
    "model.add(Dropout(0.5))\n",
    "    \n",
    "model.add(Flatten())\n",
    "model.add(Dense(256, activation='relu'))\n",
    "model.add(Dropout(0.5))\n",
    "model.add(Dense(128, activation='relu'))\n",
    "model.add(Dropout(0.5))\n",
    "model.add(Dense(48, activation='relu'))\n",
    "model.add(Dropout(0.5))\n",
    "model.add(Dense(7, activation='softmax'))\n",
    "adam = optimizers.Adam(lr = learning_rate)\n",
    "model.compile(optimizer = adam, loss = 'categorical_crossentropy', metrics = ['accuracy'])\n",
    "    \n",
    "print(model.summary())\n",
    "\n",
    "lr_reducer = ReduceLROnPlateau(monitor='val_loss', factor=0.9, patience=3)\n",
    "early_stopper = EarlyStopping(monitor='val_acc', min_delta=0, patience=6, mode='auto')\n",
    "checkpointer = ModelCheckpoint('/content/gdrive/My Drive/Colab Notebooks/Emotion Recognition/Model/Train_weights.hd5', monitor='val_loss', verbose=1, save_best_only=True)\n",
    "\n",
    "model.fit(\n",
    "          train_data,\n",
    "          train_labels,\n",
    "          epochs = epochs,\n",
    "          batch_size = batch_size,\n",
    "          validation_split = 0.2,\n",
    "          shuffle = True,\n",
    "          callbacks=[lr_reducer, checkpointer, early_stopper]\n",
    "          )"
   ]
  },
  {
   "cell_type": "markdown",
   "metadata": {
    "colab_type": "text",
    "id": "TD8ppILhFUrz"
   },
   "source": [
    "## 6. Test the model.\n",
    "\n",
    "We trained the neural network and we achieved the highest validation accuracy of 62.23%. Now, we will use the test data to check how well our model generalizes. \n",
    "\n",
    "We score an astounding 60.2 % on the test set. Though we barely, made it to the first division, we still made it the 12th rank of the Kaggle competition."
   ]
  },
  {
   "cell_type": "code",
   "execution_count": 7,
   "metadata": {
    "colab": {
     "base_uri": "https://localhost:8080/",
     "height": 34
    },
    "colab_type": "code",
    "id": "OzhQw9NOWjl3",
    "outputId": "02b41831-a57b-4243-84a2-822f0de6669a"
   },
   "outputs": [
    {
     "name": "stdout",
     "output_type": "stream",
     "text": [
      "Accuracy score =  0.6015603232098078\n"
     ]
    }
   ],
   "source": [
    "predicted_test_labels = np.argmax(model.predict(test_data), axis=1)\n",
    "test_labels = np.argmax(test_labels, axis=1)\n",
    "print (\"Accuracy score = \", accuracy_score(test_labels, predicted_test_labels))"
   ]
  },
  {
   "cell_type": "markdown",
   "metadata": {
    "colab_type": "text",
    "id": "CGsta6kKHr82"
   },
   "source": [
    "## 7. Save the model."
   ]
  },
  {
   "cell_type": "code",
   "execution_count": 8,
   "metadata": {
    "colab": {
     "base_uri": "https://localhost:8080/",
     "height": 34
    },
    "colab_type": "code",
    "id": "uiMswpPsr4KK",
    "outputId": "e6e66c44-d67b-4925-8a98-d8a56426b295"
   },
   "outputs": [
    {
     "name": "stdout",
     "output_type": "stream",
     "text": [
      "Saved model to disk\n"
     ]
    }
   ],
   "source": [
    "from keras.models import model_from_json\n",
    "model_json = model.to_json()\n",
    "with open(\"/content/gdrive/My Drive/Colab Notebooks/Emotion Recognition/Models/model.json\", \"w\") as json_file:\n",
    "    json_file.write(model_json)\n",
    "# serialize weights to HDF5\n",
    "model.save_weights(\"/content/gdrive/My Drive/Colab Notebooks/Emotion Recognition/Models/model.h5\")\n",
    "print(\"Saved model to disk\")"
   ]
  },
  {
   "cell_type": "markdown",
   "metadata": {
    "colab_type": "text",
    "id": "9tQb_TMMH4sb"
   },
   "source": [
    "## 8. Up next?\n",
    "\n",
    "Our neural network is trained and we are ready to use it in an application. In the accompanying IPython Notebook, we will notice an application which analyzes your webcam feed and identifies faces and then recognizes the emotions.\n",
    "\n"
   ]
  }
 ],
 "metadata": {
  "accelerator": "GPU",
  "colab": {
   "collapsed_sections": [],
   "name": "Emotion Recognition(CNN) - FER2013",
   "provenance": [],
   "toc_visible": true,
   "version": "0.3.2"
  },
  "kernelspec": {
   "display_name": "Python 3",
   "language": "python",
   "name": "python3"
  },
  "language_info": {
   "codemirror_mode": {
    "name": "ipython",
    "version": 3
   },
   "file_extension": ".py",
   "mimetype": "text/x-python",
   "name": "python",
   "nbconvert_exporter": "python",
   "pygments_lexer": "ipython3",
   "version": "3.6.6"
  }
 },
 "nbformat": 4,
 "nbformat_minor": 1
}
